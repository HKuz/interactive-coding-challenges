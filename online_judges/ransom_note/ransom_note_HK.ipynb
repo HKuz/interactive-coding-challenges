{
 "cells": [
  {
   "cell_type": "markdown",
   "metadata": {},
   "source": [
    "This notebook was prepared by [Donne Martin](https://github.com/donnemartin). Source and license info is on [GitHub](https://github.com/donnemartin/interactive-coding-challenges)."
   ]
  },
  {
   "cell_type": "markdown",
   "metadata": {},
   "source": [
    "# Challenge Notebook"
   ]
  },
  {
   "cell_type": "markdown",
   "metadata": {},
   "source": [
    "## Problem: Given a magazine, see if a ransom note could have been written using the letters in the magazine.\n",
    "\n",
    "* [Constraints](#Constraints)\n",
    "* [Test Cases](#Test-Cases)\n",
    "* [Algorithm](#Algorithm)\n",
    "* [Code](#Code)\n",
    "* [Unit Test](#Unit-Test)\n",
    "* [Solution Notebook](#Solution-Notebook)"
   ]
  },
  {
   "cell_type": "markdown",
   "metadata": {},
   "source": [
    "## Constraints\n",
    "\n",
    "* Is this case sensitive?\n",
    "    * Yes\n",
    "* Can we assume we're working with ASCII characters?\n",
    "    * Yes\n",
    "* Can we scan the entire magazine, or should we scan only when necessary?\n",
    "    * You can scan the entire magazine\n",
    "* Can we assume the inputs are valid?\n",
    "    * No\n",
    "* Can we assume this fits memory?\n",
    "    * Yes"
   ]
  },
  {
   "cell_type": "markdown",
   "metadata": {},
   "source": [
    "## Test Cases\n",
    "\n",
    "* None -> Exception\n",
    "* '', '' -> Exception\n",
    "* 'a', 'b' -> False\n",
    "* 'aa', 'ab' -> False\n",
    "* 'aa', 'aab' -> True"
   ]
  },
  {
   "cell_type": "markdown",
   "metadata": {},
   "source": [
    "## Algorithm\n",
    "\n",
    "Refer to the [Solution Notebook]().  If you are stuck and need a hint, the solution notebook's algorithm discussion might be a good place to start."
   ]
  },
  {
   "cell_type": "markdown",
   "metadata": {},
   "source": [
    "## Code"
   ]
  },
  {
   "cell_type": "code",
   "execution_count": 1,
   "metadata": {
    "collapsed": false
   },
   "outputs": [],
   "source": [
    "class Solution(object):\n",
    "\n",
    "    def match_note_to_magazine(self, ransom_note, magazine):\n",
    "        if type(ransom_note) is not str or type(magazine) is not str:\n",
    "            raise TypeError('Inputs must be strings')\n",
    "\n",
    "        # Empty string and longer ransom notes vs magazine cases\n",
    "        if not ransom_note:\n",
    "            return True\n",
    "        elif not magazine or len(ransom_note) > len(magazine):\n",
    "            return False\n",
    "\n",
    "        freq_dict = {}\n",
    "\n",
    "        for c in magazine:\n",
    "            try:\n",
    "                freq_dict[c] += 1\n",
    "            except KeyError:\n",
    "                freq_dict[c] = 1\n",
    "\n",
    "        for l in ransom_note:\n",
    "            try:\n",
    "                freq_dict[l] -= 1\n",
    "            except KeyError:\n",
    "                return False\n",
    "            if freq_dict[l] < 0:\n",
    "                return False\n",
    "\n",
    "        return True"
   ]
  },
  {
   "cell_type": "markdown",
   "metadata": {},
   "source": [
    "## Unit Test"
   ]
  },
  {
   "cell_type": "markdown",
   "metadata": {},
   "source": [
    "**The following unit test is expected to fail until you solve the challenge.**"
   ]
  },
  {
   "cell_type": "code",
   "execution_count": 2,
   "metadata": {
    "collapsed": false
   },
   "outputs": [
    {
     "name": "stdout",
     "output_type": "stream",
     "text": [
      "Success: test_ransom_note\n"
     ]
    }
   ],
   "source": [
    "# %load test_ransom_note.py\n",
    "from nose.tools import assert_equal, assert_raises\n",
    "\n",
    "\n",
    "class TestRansomNote(object):\n",
    "\n",
    "    def test_ransom_note(self):\n",
    "        solution = Solution()\n",
    "        assert_raises(TypeError, solution.match_note_to_magazine, None, None)\n",
    "        assert_equal(solution.match_note_to_magazine('', ''), True)\n",
    "        assert_equal(solution.match_note_to_magazine('a', 'b'), False)\n",
    "        assert_equal(solution.match_note_to_magazine('aa', 'ab'), False)\n",
    "        assert_equal(solution.match_note_to_magazine('aa', 'aab'), True)\n",
    "        print('Success: test_ransom_note')\n",
    "\n",
    "\n",
    "def main():\n",
    "    test = TestRansomNote()\n",
    "    test.test_ransom_note()\n",
    "\n",
    "\n",
    "if __name__ == '__main__':\n",
    "    main()"
   ]
  },
  {
   "cell_type": "markdown",
   "metadata": {},
   "source": [
    "## Solution Notebook\n",
    "\n",
    "Review the [Solution Notebook]() for a discussion on algorithms and code solutions."
   ]
  }
 ],
 "metadata": {
  "kernelspec": {
   "display_name": "Python 2",
   "language": "python",
   "name": "python2"
  },
  "language_info": {
   "codemirror_mode": {
    "name": "ipython",
    "version": 2
   },
   "file_extension": ".py",
   "mimetype": "text/x-python",
   "name": "python",
   "nbconvert_exporter": "python",
   "pygments_lexer": "ipython2",
   "version": "2.7.13"
  }
 },
 "nbformat": 4,
 "nbformat_minor": 0
}
