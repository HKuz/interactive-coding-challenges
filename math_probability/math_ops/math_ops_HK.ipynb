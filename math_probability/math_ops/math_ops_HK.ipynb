{
 "cells": [
  {
   "cell_type": "markdown",
   "metadata": {},
   "source": [
    "This notebook was prepared by [Donne Martin](https://github.com/donnemartin). Source and license info is on [GitHub](https://github.com/donnemartin/interactive-coding-challenges)."
   ]
  },
  {
   "cell_type": "markdown",
   "metadata": {},
   "source": [
    "# Challenge Notebook"
   ]
  },
  {
   "cell_type": "markdown",
   "metadata": {},
   "source": [
    "## Problem: Create a class with an insert method to insert an int to a list.  It should also support calculating the max, min, mean, and mode in O(1).\n",
    "\n",
    "* [Constraints](#Constraints)\n",
    "* [Test Cases](#Test-Cases)\n",
    "* [Algorithm](#Algorithm)\n",
    "* [Code](#Code)\n",
    "* [Unit Test](#Unit-Test)\n",
    "* [Solution Notebook](#Solution-Notebook)"
   ]
  },
  {
   "cell_type": "markdown",
   "metadata": {},
   "source": [
    "## Constraints\n",
    "\n",
    "* Can we assume the inputs are valid?\n",
    "    * No\n",
    "* Is there a range of inputs?\n",
    "    * 0 <= item <= 100\n",
    "* Should mean return a float?\n",
    "    * Yes\n",
    "* Should the other results return an int?\n",
    "    * Yes\n",
    "* If there are multiple modes, what do we return?\n",
    "    * Any of the modes\n",
    "* Can we assume this fits memory?\n",
    "    * Yes"
   ]
  },
  {
   "cell_type": "markdown",
   "metadata": {},
   "source": [
    "## Test Cases\n",
    "\n",
    "* None -> TypeError\n",
    "* [] -> ValueError\n",
    "* [5, 2, 7, 9, 9, 2, 9, 4, 3, 3, 2]\n",
    "    * max: 9\n",
    "    * min: 2\n",
    "    * mean: 55\n",
    "    * mode: 9 or 2"
   ]
  },
  {
   "cell_type": "markdown",
   "metadata": {},
   "source": [
    "## Algorithm\n",
    "\n",
    "Refer to the [Solution Notebook]().  If you are stuck and need a hint, the solution notebook's algorithm discussion might be a good place to start."
   ]
  },
  {
   "cell_type": "markdown",
   "metadata": {},
   "source": [
    "## Code"
   ]
  },
  {
   "cell_type": "code",
   "execution_count": 11,
   "metadata": {
    "collapsed": false
   },
   "outputs": [],
   "source": [
    "class Solution(object):\n",
    "\n",
    "    def __init__(self, upper_limit=100):\n",
    "        self.upper_limit = upper_limit\n",
    "        self._internal_list = []\n",
    "        self._frequency_dict = {}\n",
    "        self.max = None\n",
    "        self.min = None\n",
    "        self.mean = None\n",
    "        self.freq = None\n",
    "        self.mode = None\n",
    "        self.sum = 0\n",
    "        self.num_items = 0\n",
    "\n",
    "    def insert(self, val):\n",
    "        if type(val) is not int:\n",
    "            raise TypeError\n",
    "\n",
    "        # Update the max and min values\n",
    "        if self.max is None or self.min is None:\n",
    "            # First time setting maximum and minimum\n",
    "            self.max = val\n",
    "            self.min = val\n",
    "        else:\n",
    "            if val > self.max:\n",
    "                self.max = val\n",
    "            if val < self.min:\n",
    "                self.min = val\n",
    "\n",
    "        # Keep running total of sum to get mean\n",
    "        self.sum += val\n",
    "        self.num_items += 1\n",
    "        self.mean = self.sum / self.num_items\n",
    "\n",
    "        # Track the frequency of val in the list\n",
    "        try:\n",
    "            self._frequency_dict[val] += 1\n",
    "        except KeyError:\n",
    "            self._frequency_dict[val] = 1\n",
    "\n",
    "        # Update mode (most frequently occurring value)\n",
    "        if self.freq is None:\n",
    "            # First time setting mode\n",
    "            self.freq = (val, 1)\n",
    "            self.mode = self.freq[0]\n",
    "        else:\n",
    "            temp_freq = self._frequency_dict[val]\n",
    "            if temp_freq > self.freq[1]:\n",
    "                self.freq = (val, temp_freq)\n",
    "                self.mode = self.freq[0]\n",
    "\n",
    "        self._internal_list.append(val)\n",
    "\n",
    "        return self._internal_list"
   ]
  },
  {
   "cell_type": "markdown",
   "metadata": {},
   "source": [
    "## Unit Test"
   ]
  },
  {
   "cell_type": "markdown",
   "metadata": {},
   "source": [
    "**The following unit test is expected to fail until you solve the challenge.**"
   ]
  },
  {
   "cell_type": "code",
   "execution_count": 12,
   "metadata": {
    "collapsed": false
   },
   "outputs": [
    {
     "name": "stdout",
     "output_type": "stream",
     "text": [
      "Success: test_math_ops\n"
     ]
    }
   ],
   "source": [
    "# %load test_math_ops.py\n",
    "from nose.tools import assert_equal, assert_true, assert_raises\n",
    "\n",
    "\n",
    "class TestMathOps(object):\n",
    "\n",
    "    def test_math_ops(self):\n",
    "        solution = Solution()\n",
    "        assert_raises(TypeError, solution.insert, None)\n",
    "        solution.insert(5)\n",
    "        solution.insert(2)\n",
    "        solution.insert(7)\n",
    "        solution.insert(9)\n",
    "        solution.insert(9)\n",
    "        solution.insert(2)\n",
    "        solution.insert(9)\n",
    "        solution.insert(4)\n",
    "        solution.insert(3)\n",
    "        solution.insert(3)\n",
    "        solution.insert(2)\n",
    "        assert_equal(solution.max, 9)\n",
    "        assert_equal(solution.min, 2)\n",
    "        assert_equal(solution.mean, 5)\n",
    "        assert_true(solution.mode in (2, 9))\n",
    "        print('Success: test_math_ops')\n",
    "\n",
    "\n",
    "def main():\n",
    "    test = TestMathOps()\n",
    "    test.test_math_ops()\n",
    "\n",
    "\n",
    "if __name__ == '__main__':\n",
    "    main()"
   ]
  },
  {
   "cell_type": "markdown",
   "metadata": {},
   "source": [
    "## Solution Notebook\n",
    "\n",
    "Review the [Solution Notebook]() for a discussion on algorithms and code solutions."
   ]
  }
 ],
 "metadata": {
  "kernelspec": {
   "display_name": "Python 2",
   "language": "python",
   "name": "python2"
  },
  "language_info": {
   "codemirror_mode": {
    "name": "ipython",
    "version": 2
   },
   "file_extension": ".py",
   "mimetype": "text/x-python",
   "name": "python",
   "nbconvert_exporter": "python",
   "pygments_lexer": "ipython2",
   "version": "2.7.13"
  }
 },
 "nbformat": 4,
 "nbformat_minor": 0
}
